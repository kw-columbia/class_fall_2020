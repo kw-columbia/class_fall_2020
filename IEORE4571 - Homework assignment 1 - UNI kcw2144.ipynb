{
 "cells": [
  {
   "cell_type": "markdown",
   "metadata": {},
   "source": [
    "**Name: Kushal Wijesundara**\n",
    "**UNI: kcw2144**\n"
   ]
  },
  {
   "cell_type": "markdown",
   "metadata": {},
   "source": [
    "For this exercise we will try to predict the subjective quality of Portuguese red wine using only\n",
    "the physiochemical properties of each wine. \n",
    "We will not use any the common regression methods and packages for Python or R - instead we will use minimization methods in order to minimize the error of a linear model. \n",
    "In this case, we will define error as Residual Sum of Squares (RSS), which is also often known as Squared Error.\n",
    "Though the instructions below are specific to Python, the deliverable for this assignment can be either a Python or R notebook (markdown or pdf). \n",
    "Submit only this notebook (all code and question answers should be in this one file). This exercise should be relatively straight forward, so don’t overthink it, and keep it short and clear. Include the following steps."
   ]
  },
  {
   "cell_type": "markdown",
   "metadata": {},
   "source": [
    "## Setup\n",
    "- Download and load the data set for red wine into a data frame\n",
    "- http://archive.ics.uci.edu/ml/datasets/Wine+Quality\n",
    "- Use only the red wine data, not the white wine data"
   ]
  },
  {
   "cell_type": "code",
   "execution_count": 1,
   "metadata": {},
   "outputs": [],
   "source": [
    "import numpy as np\n",
    "import pandas as pd\n",
    "import scipy as sp\n",
    "from scipy.optimize import minimize\n",
    "from scipy.stats import chisquare\n",
    "from collections import OrderedDict\n",
    "from sklearn.model_selection import train_test_split\n",
    "import matplotlib.pyplot as plt\n",
    "%matplotlib inline\n",
    "plt.style.use('seaborn-white')"
   ]
  },
  {
   "cell_type": "code",
   "execution_count": 2,
   "metadata": {},
   "outputs": [
    {
     "data": {
      "text/html": [
       "<style type=\"text/css\">\n",
       "table.dataframe td, table.dataframe th {\n",
       "    border: 1px  black solid !important;\n",
       "  color: black !important;\n",
       "}\n"
      ],
      "text/plain": [
       "<IPython.core.display.HTML object>"
      ]
     },
     "metadata": {},
     "output_type": "display_data"
    }
   ],
   "source": [
    "%%HTML\n",
    "<style type=\"text/css\">\n",
    "table.dataframe td, table.dataframe th {\n",
    "    border: 1px  black solid !important;\n",
    "  color: black !important;\n",
    "}"
   ]
  },
  {
   "cell_type": "code",
   "execution_count": 3,
   "metadata": {},
   "outputs": [
    {
     "data": {
      "text/html": [
       "<div>\n",
       "<style scoped>\n",
       "    .dataframe tbody tr th:only-of-type {\n",
       "        vertical-align: middle;\n",
       "    }\n",
       "\n",
       "    .dataframe tbody tr th {\n",
       "        vertical-align: top;\n",
       "    }\n",
       "\n",
       "    .dataframe thead th {\n",
       "        text-align: right;\n",
       "    }\n",
       "</style>\n",
       "<table border=\"1\" class=\"dataframe\">\n",
       "  <thead>\n",
       "    <tr style=\"text-align: right;\">\n",
       "      <th></th>\n",
       "      <th>fixed acidity</th>\n",
       "      <th>volatile acidity</th>\n",
       "      <th>citric acid</th>\n",
       "      <th>residual sugar</th>\n",
       "      <th>chlorides</th>\n",
       "      <th>free sulfur dioxide</th>\n",
       "      <th>total sulfur dioxide</th>\n",
       "      <th>density</th>\n",
       "      <th>pH</th>\n",
       "      <th>sulphates</th>\n",
       "      <th>alcohol</th>\n",
       "      <th>quality</th>\n",
       "    </tr>\n",
       "  </thead>\n",
       "  <tbody>\n",
       "    <tr>\n",
       "      <th>0</th>\n",
       "      <td>7.4</td>\n",
       "      <td>0.70</td>\n",
       "      <td>0.00</td>\n",
       "      <td>1.9</td>\n",
       "      <td>0.076</td>\n",
       "      <td>11.0</td>\n",
       "      <td>34.0</td>\n",
       "      <td>0.9978</td>\n",
       "      <td>3.51</td>\n",
       "      <td>0.56</td>\n",
       "      <td>9.4</td>\n",
       "      <td>5</td>\n",
       "    </tr>\n",
       "    <tr>\n",
       "      <th>1</th>\n",
       "      <td>7.8</td>\n",
       "      <td>0.88</td>\n",
       "      <td>0.00</td>\n",
       "      <td>2.6</td>\n",
       "      <td>0.098</td>\n",
       "      <td>25.0</td>\n",
       "      <td>67.0</td>\n",
       "      <td>0.9968</td>\n",
       "      <td>3.20</td>\n",
       "      <td>0.68</td>\n",
       "      <td>9.8</td>\n",
       "      <td>5</td>\n",
       "    </tr>\n",
       "    <tr>\n",
       "      <th>2</th>\n",
       "      <td>7.8</td>\n",
       "      <td>0.76</td>\n",
       "      <td>0.04</td>\n",
       "      <td>2.3</td>\n",
       "      <td>0.092</td>\n",
       "      <td>15.0</td>\n",
       "      <td>54.0</td>\n",
       "      <td>0.9970</td>\n",
       "      <td>3.26</td>\n",
       "      <td>0.65</td>\n",
       "      <td>9.8</td>\n",
       "      <td>5</td>\n",
       "    </tr>\n",
       "    <tr>\n",
       "      <th>3</th>\n",
       "      <td>11.2</td>\n",
       "      <td>0.28</td>\n",
       "      <td>0.56</td>\n",
       "      <td>1.9</td>\n",
       "      <td>0.075</td>\n",
       "      <td>17.0</td>\n",
       "      <td>60.0</td>\n",
       "      <td>0.9980</td>\n",
       "      <td>3.16</td>\n",
       "      <td>0.58</td>\n",
       "      <td>9.8</td>\n",
       "      <td>6</td>\n",
       "    </tr>\n",
       "    <tr>\n",
       "      <th>4</th>\n",
       "      <td>7.4</td>\n",
       "      <td>0.70</td>\n",
       "      <td>0.00</td>\n",
       "      <td>1.9</td>\n",
       "      <td>0.076</td>\n",
       "      <td>11.0</td>\n",
       "      <td>34.0</td>\n",
       "      <td>0.9978</td>\n",
       "      <td>3.51</td>\n",
       "      <td>0.56</td>\n",
       "      <td>9.4</td>\n",
       "      <td>5</td>\n",
       "    </tr>\n",
       "    <tr>\n",
       "      <th>5</th>\n",
       "      <td>7.4</td>\n",
       "      <td>0.66</td>\n",
       "      <td>0.00</td>\n",
       "      <td>1.8</td>\n",
       "      <td>0.075</td>\n",
       "      <td>13.0</td>\n",
       "      <td>40.0</td>\n",
       "      <td>0.9978</td>\n",
       "      <td>3.51</td>\n",
       "      <td>0.56</td>\n",
       "      <td>9.4</td>\n",
       "      <td>5</td>\n",
       "    </tr>\n",
       "  </tbody>\n",
       "</table>\n",
       "</div>"
      ],
      "text/plain": [
       "   fixed acidity  volatile acidity  citric acid  residual sugar  chlorides  \\\n",
       "0            7.4              0.70         0.00             1.9      0.076   \n",
       "1            7.8              0.88         0.00             2.6      0.098   \n",
       "2            7.8              0.76         0.04             2.3      0.092   \n",
       "3           11.2              0.28         0.56             1.9      0.075   \n",
       "4            7.4              0.70         0.00             1.9      0.076   \n",
       "5            7.4              0.66         0.00             1.8      0.075   \n",
       "\n",
       "   free sulfur dioxide  total sulfur dioxide  density    pH  sulphates  \\\n",
       "0                 11.0                  34.0   0.9978  3.51       0.56   \n",
       "1                 25.0                  67.0   0.9968  3.20       0.68   \n",
       "2                 15.0                  54.0   0.9970  3.26       0.65   \n",
       "3                 17.0                  60.0   0.9980  3.16       0.58   \n",
       "4                 11.0                  34.0   0.9978  3.51       0.56   \n",
       "5                 13.0                  40.0   0.9978  3.51       0.56   \n",
       "\n",
       "   alcohol  quality  \n",
       "0      9.4        5  \n",
       "1      9.8        5  \n",
       "2      9.8        5  \n",
       "3      9.8        6  \n",
       "4      9.4        5  \n",
       "5      9.4        5  "
      ]
     },
     "execution_count": 3,
     "metadata": {},
     "output_type": "execute_result"
    }
   ],
   "source": [
    "df = pd.read_csv(\"./winequality-red.csv\",sep=\";\")\n",
    "df.head(6)"
   ]
  },
  {
   "cell_type": "code",
   "execution_count": 4,
   "metadata": {},
   "outputs": [
    {
     "name": "stdout",
     "output_type": "stream",
     "text": [
      "<class 'pandas.core.frame.DataFrame'>\n",
      "RangeIndex: 1599 entries, 0 to 1598\n",
      "Data columns (total 12 columns):\n",
      " #   Column                Non-Null Count  Dtype  \n",
      "---  ------                --------------  -----  \n",
      " 0   fixed acidity         1599 non-null   float64\n",
      " 1   volatile acidity      1599 non-null   float64\n",
      " 2   citric acid           1599 non-null   float64\n",
      " 3   residual sugar        1599 non-null   float64\n",
      " 4   chlorides             1599 non-null   float64\n",
      " 5   free sulfur dioxide   1599 non-null   float64\n",
      " 6   total sulfur dioxide  1599 non-null   float64\n",
      " 7   density               1599 non-null   float64\n",
      " 8   pH                    1599 non-null   float64\n",
      " 9   sulphates             1599 non-null   float64\n",
      " 10  alcohol               1599 non-null   float64\n",
      " 11  quality               1599 non-null   int64  \n",
      "dtypes: float64(11), int64(1)\n",
      "memory usage: 150.0 KB\n",
      "data shape:  (1599, 12)\n"
     ]
    }
   ],
   "source": [
    "# check for NA's and data types for pre-processing\n",
    "df.info()\n",
    "print(\"data shape: \", df.shape)"
   ]
  },
  {
   "cell_type": "markdown",
   "metadata": {},
   "source": [
    "- Split the data by columns into features that you will use for prediction, X, and the feature you will try to predict (‘quality’), y"
   ]
  },
  {
   "cell_type": "code",
   "execution_count": 5,
   "metadata": {},
   "outputs": [],
   "source": [
    "X = df[df.columns[:-1]]\n",
    "y = df[['quality']]"
   ]
  },
  {
   "cell_type": "code",
   "execution_count": 6,
   "metadata": {},
   "outputs": [
    {
     "name": "stdout",
     "output_type": "stream",
     "text": [
      "X data shape:  (1599, 11)\n",
      "y data shape:  (1599, 1)\n"
     ]
    }
   ],
   "source": [
    "print(\"X data shape: \", X.shape)\n",
    "print(\"y data shape: \", y.shape)"
   ]
  },
  {
   "cell_type": "markdown",
   "metadata": {},
   "source": [
    "- Split both X and y by rows into training sets a testing sets\n",
    "- Randomly split the data, keeping 80% of instances for training and 20% for testing\n",
    "- At the end, you should have 4 data sets: X_train, y_train, X_test, and y_test"
   ]
  },
  {
   "cell_type": "code",
   "execution_count": 7,
   "metadata": {},
   "outputs": [],
   "source": [
    "X_train, X_test, y_train, y_test = train_test_split(X, y, test_size= 0.2, random_state= 123)"
   ]
  },
  {
   "cell_type": "code",
   "execution_count": 8,
   "metadata": {},
   "outputs": [
    {
     "name": "stdout",
     "output_type": "stream",
     "text": [
      "X_train data shape:  (1279, 11)\n",
      "X_test data shape:  (320, 11)\n",
      "y_train data shape:  (1279, 1)\n",
      "y_test data shape:  (320, 1)\n"
     ]
    }
   ],
   "source": [
    "print(\"X_train data shape: \", X_train.shape)\n",
    "print(\"X_test data shape: \", X_test.shape)\n",
    "print(\"y_train data shape: \", y_train.shape)\n",
    "print(\"y_test data shape: \", y_test.shape)"
   ]
  },
  {
   "cell_type": "code",
   "execution_count": 9,
   "metadata": {},
   "outputs": [],
   "source": [
    "# Data to arrays\n",
    "X_train = X_train.values\n",
    "y_train = y_train.values\n",
    "X_test = X_test.values\n",
    "y_test = y_test.values"
   ]
  },
  {
   "cell_type": "markdown",
   "metadata": {},
   "source": [
    "## Regression equations and functions"
   ]
  },
  {
   "cell_type": "markdown",
   "metadata": {},
   "source": [
    "- Write out two equations: \n",
    "- (1) the equation for the linear model that predicts y from X, and\n",
    "- (2) the equation for computing the Residual Sum of Squares (RSS) for the linear model, given data, vector x, and parameters, vector β.\n",
    "- See equations 3.1 and 3.2 in the Elements of Statistical Learning book\n",
    "- Feel free to ignore the intercept term for this homework (e.g. β0)\n"
   ]
  },
  {
   "cell_type": "markdown",
   "metadata": {},
   "source": [
    "- Equation (1) for a the linear model that predicts y from X\n",
    "$$ y =   \\beta_0 + \\sum_{j=1}^{p} X_j \\beta_j$$"
   ]
  },
  {
   "cell_type": "markdown",
   "metadata": {},
   "source": [
    "- Equation (2) for computing the Residual Sum of Squares (RSS) for the linear model, given data, vector x, and parameters, vector β.\n",
    "$$RSS(\\beta) = \\sum_{i=1}^{N}( y_i - \\beta_0 - \\sum_{j=1}^{p} x_{ij} \\beta_j)$$\n",
    "\n",
    "- When we ignore the intercept term β0, Equation (2) modifies to:\n",
    "$$RSS(\\beta) = \\sum_{i=1}^{N}( y_i - \\sum_{j=1}^{p} x_{ij} \\beta_j)$$"
   ]
  },
  {
   "cell_type": "markdown",
   "metadata": {},
   "source": [
    "- Translate these equations into code in the form of two functions\n",
    "- The first function should compute the estimated value of y, which is y_hat, for particular values of x, and β. That is, there should be two arguments, one for the data and one for the linear function parameters.\n",
    "- The second function should compute the RSS for the first function"
   ]
  },
  {
   "cell_type": "code",
   "execution_count": 10,
   "metadata": {},
   "outputs": [],
   "source": [
    "#compute y_hat\n",
    "def compute_yhat(beta, X):\n",
    "    yhat = np.matmul(beta, X.T)\n",
    "    return yhat.reshape(yhat.shape[0],1)"
   ]
  },
  {
   "cell_type": "code",
   "execution_count": 11,
   "metadata": {},
   "outputs": [],
   "source": [
    "#compute RSS\n",
    "def RSS(beta,X, y):\n",
    "    y_hat = compute_yhat(X, beta)\n",
    "    rss = np.sum((y-y_hat)**2)\n",
    "    return rss"
   ]
  },
  {
   "cell_type": "markdown",
   "metadata": {},
   "source": [
    "## Optimizing the model "
   ]
  },
  {
   "cell_type": "markdown",
   "metadata": {},
   "source": [
    "- Use Scipy’s minimize function to find the value of β that minimize the RSS\n",
    "- https://docs.scipy.org/doc/scipy/reference/generated/scipy.optimize.minimize.html\n",
    "- Your call to minimize method will take three arguments:\n",
    "- (1) fun: the RSS function you defined above that you are trying to minimize\n",
    "- (2) x0: your initial values of β\n",
    "- (3) args: pass in all the data a tuple here. \n",
    "- For example:\n",
    "- args=(y_train, X_train)\n",
    "- For the second argument you will need to initialize β to some starting value. Try using a random vector with Numpy random methods\n",
    "- numpy.random.normal(0, 1, X_train.shape[1])\n",
    "- Your final set of functions to fit your model should have the form:\n",
    "- def RSS(beta, X, y):\n",
    "- return <some_results>\n",
    "- res = minimize(fun=RSS, x0=beta0, args=(X_train,y_train))\n",
    "- beta_hat = res.x"
   ]
  },
  {
   "cell_type": "code",
   "execution_count": 12,
   "metadata": {},
   "outputs": [
    {
     "name": "stdout",
     "output_type": "stream",
     "text": [
      "[-1.17134112e-02 -1.12665826e+00 -8.84374350e-02  4.73404242e-03\n",
      " -1.99505171e+00  2.19121001e-03 -3.27942432e-03  4.65174703e+00\n",
      " -4.64729386e-01  8.24084677e-01  2.86963534e-01]\n"
     ]
    }
   ],
   "source": [
    "beta0 = np.random.normal(0, 1, X_train.shape[1])\n",
    "res = minimize(fun=RSS, x0=beta0, args=(X_train,y_train))\n",
    "beta_hat = res.x\n",
    "print(beta_hat)"
   ]
  },
  {
   "cell_type": "markdown",
   "metadata": {},
   "source": [
    "### Questions:"
   ]
  },
  {
   "cell_type": "markdown",
   "metadata": {},
   "source": [
    "- What are the qualitative results from your model? Which features seem to be most important? Do you think that the magnitude of the features in X may affect the results (for example, the average total sulfur dioxide across all wines is 46.47, but the average chlorides is only 0.087).\n"
   ]
  },
  {
   "cell_type": "code",
   "execution_count": 13,
   "metadata": {},
   "outputs": [
    {
     "data": {
      "text/html": [
       "<div>\n",
       "<style scoped>\n",
       "    .dataframe tbody tr th:only-of-type {\n",
       "        vertical-align: middle;\n",
       "    }\n",
       "\n",
       "    .dataframe tbody tr th {\n",
       "        vertical-align: top;\n",
       "    }\n",
       "\n",
       "    .dataframe thead th {\n",
       "        text-align: right;\n",
       "    }\n",
       "</style>\n",
       "<table border=\"1\" class=\"dataframe\">\n",
       "  <thead>\n",
       "    <tr style=\"text-align: right;\">\n",
       "      <th></th>\n",
       "      <th>Attribute</th>\n",
       "      <th>Results</th>\n",
       "    </tr>\n",
       "  </thead>\n",
       "  <tbody>\n",
       "    <tr>\n",
       "      <th>0</th>\n",
       "      <td>fixed acidity</td>\n",
       "      <td>-0.011713</td>\n",
       "    </tr>\n",
       "    <tr>\n",
       "      <th>1</th>\n",
       "      <td>volatile acidity</td>\n",
       "      <td>-1.126658</td>\n",
       "    </tr>\n",
       "    <tr>\n",
       "      <th>2</th>\n",
       "      <td>citric acid</td>\n",
       "      <td>-0.088437</td>\n",
       "    </tr>\n",
       "    <tr>\n",
       "      <th>3</th>\n",
       "      <td>residual sugar</td>\n",
       "      <td>0.004734</td>\n",
       "    </tr>\n",
       "    <tr>\n",
       "      <th>4</th>\n",
       "      <td>chlorides</td>\n",
       "      <td>-1.995052</td>\n",
       "    </tr>\n",
       "    <tr>\n",
       "      <th>5</th>\n",
       "      <td>free sulfur dioxide</td>\n",
       "      <td>0.002191</td>\n",
       "    </tr>\n",
       "    <tr>\n",
       "      <th>6</th>\n",
       "      <td>total sulfur dioxide</td>\n",
       "      <td>-0.003279</td>\n",
       "    </tr>\n",
       "    <tr>\n",
       "      <th>7</th>\n",
       "      <td>density</td>\n",
       "      <td>4.651747</td>\n",
       "    </tr>\n",
       "    <tr>\n",
       "      <th>8</th>\n",
       "      <td>pH</td>\n",
       "      <td>-0.464729</td>\n",
       "    </tr>\n",
       "    <tr>\n",
       "      <th>9</th>\n",
       "      <td>sulphates</td>\n",
       "      <td>0.824085</td>\n",
       "    </tr>\n",
       "    <tr>\n",
       "      <th>10</th>\n",
       "      <td>alcohol</td>\n",
       "      <td>0.286964</td>\n",
       "    </tr>\n",
       "  </tbody>\n",
       "</table>\n",
       "</div>"
      ],
      "text/plain": [
       "               Attribute   Results\n",
       "0          fixed acidity -0.011713\n",
       "1       volatile acidity -1.126658\n",
       "2            citric acid -0.088437\n",
       "3         residual sugar  0.004734\n",
       "4              chlorides -1.995052\n",
       "5    free sulfur dioxide  0.002191\n",
       "6   total sulfur dioxide -0.003279\n",
       "7                density  4.651747\n",
       "8                     pH -0.464729\n",
       "9              sulphates  0.824085\n",
       "10               alcohol  0.286964"
      ]
     },
     "execution_count": 13,
     "metadata": {},
     "output_type": "execute_result"
    }
   ],
   "source": [
    "Results = { \"Attribute\" : list(X.columns.values), \"Results\" : res.x}\n",
    "Results = pd.DataFrame(Results,columns=['Attribute','Results'])\n",
    "Results"
   ]
  },
  {
   "cell_type": "code",
   "execution_count": 14,
   "metadata": {},
   "outputs": [
    {
     "name": "stdout",
     "output_type": "stream",
     "text": [
      "Change in Quality for 1 percent change in total sulfur dioxide = -0.0015239484816727616\n",
      "Change in Quality for 1 percent change in chlorides = -0.0017356949844758007\n"
     ]
    }
   ],
   "source": [
    "sulfur = Results.loc[Results['Attribute'] == 'total sulfur dioxide']['Results'].iat[0]\n",
    "chloride = Results.loc[Results['Attribute'] == 'chlorides']['Results'].iat[0]\n",
    "average_sulfur = 46.47\n",
    "average_chloride = 0.087\n",
    "per_sulfur_change = average_sulfur*0.01*sulfur\n",
    "per_chloride_change = average_chloride*0.01*chloride\n",
    "print(\"Change in Quality for 1 percent change in total sulfur dioxide = \" + str(per_sulfur_change))\n",
    "print(\"Change in Quality for 1 percent change in chlorides = \" + str(per_chloride_change))"
   ]
  },
  {
   "cell_type": "markdown",
   "metadata": {},
   "source": [
    "### Answer"
   ]
  },
  {
   "cell_type": "markdown",
   "metadata": {},
   "source": [
    "- It seems that the 'density' is the most important feature as well as features like 'chlorides' and 'volatile acidity' as they have the highest absolute value for the beta, based on the coefficients beta for each variable. But the magnitudes of the features are quite different. But the results of the above analysis (table results above) give only the regression coefficients. The variables are not based on the same scale and hence these regression value are uncomparable. To Compare the regression values, we need to standardise the variables or use normalisation to bring them to the same scale. Form the comparison results for sulfer and chloride, we see that although the value for chlorides was much higher than that of the total sulfur dioxide, we can see, the percent changes for both the attributes are quite similar. "
   ]
  },
  {
   "cell_type": "markdown",
   "metadata": {},
   "source": [
    "### Question"
   ]
  },
  {
   "cell_type": "markdown",
   "metadata": {},
   "source": [
    "- How well does your model fit? You should be able to measure the goodness of fit, RSS, on both the training data and the test data, but only report the results on the test data. In Machine Learning we almost always only care about how well the model fits on data that has not been used to fit the model, because we need to use the model in the future, not the past. Therefore, we only report performance with holdout data, or test data.\n"
   ]
  },
  {
   "cell_type": "code",
   "execution_count": 15,
   "metadata": {},
   "outputs": [
    {
     "name": "stdout",
     "output_type": "stream",
     "text": [
      "RSS for training data 529.28\n",
      "RSS for test data 139.61\n"
     ]
    }
   ],
   "source": [
    "# compute RSS for both training and test from optimized values beta_hat\n",
    "RSS_train = RSS(beta_hat, X_train, y_train)\n",
    "print (\"RSS for training data {0:.2f}\".format(RSS_train))\n",
    "RSS_test = RSS(beta_hat, X_test, y_test)\n",
    "print (\"RSS for test data {0:.2f}\".format(RSS_test))"
   ]
  },
  {
   "cell_type": "markdown",
   "metadata": {},
   "source": [
    "- The RSS on the test data is 139.61. Since the RSS is a function of number of data points in the within the dataset, it can  be used for comparison across different methods"
   ]
  },
  {
   "cell_type": "markdown",
   "metadata": {},
   "source": [
    "### Question"
   ]
  },
  {
   "cell_type": "markdown",
   "metadata": {},
   "source": [
    "- Does the end result or RSS change if you try different initial values of β? What happens if you change the magnitude of the initial β?"
   ]
  },
  {
   "cell_type": "code",
   "execution_count": 16,
   "metadata": {},
   "outputs": [],
   "source": [
    "def RSS_minimize(beta0, X_test, y_test, solver='Powell'):\n",
    "    res = minimize(fun=RSS, x0=beta0, method=solver, args=(X_train,y_train))\n",
    "    beta_hat = res.x\n",
    "    return RSS(beta_hat, X_test, y_test)"
   ]
  },
  {
   "cell_type": "code",
   "execution_count": 17,
   "metadata": {},
   "outputs": [],
   "source": [
    "RSS_1 = RSS_minimize(beta0=[1,20,-3,24,-95,1116,-7000,88,91,190,-311], X_test=X_test, y_test=y_test)\n",
    "RSS_2 = RSS_minimize(beta0=list(range(10000,10011)), X_test=X_test, y_test=y_test)\n",
    "RSS_3 = RSS_minimize(beta0=list(range(-20,-31,-1)), X_test=X_test, y_test=y_test)\n",
    "RSS_4 = RSS_minimize(beta0=list(range(-20000,-20011,-1)), X_test=X_test, y_test=y_test)"
   ]
  },
  {
   "cell_type": "code",
   "execution_count": 18,
   "metadata": {},
   "outputs": [
    {
     "name": "stdout",
     "output_type": "stream",
     "text": [
      "RSS for different starting points 139.61, 139.61, 139.61, 139.61\n"
     ]
    }
   ],
   "source": [
    "print('RSS for different starting points {0:.2f}, {0:.2f}, {0:.2f}, {0:.2f}'.format(RSS_1, RSS_2, RSS_3, RSS_4))"
   ]
  },
  {
   "cell_type": "markdown",
   "metadata": {},
   "source": [
    "### Answer"
   ]
  },
  {
   "cell_type": "markdown",
   "metadata": {},
   "source": [
    "- With change in the initial value of $\\beta$,  RSS doesn't seems to change. Also by changing the magnitude of the initial  $\\beta$ did not change the results of the RSS values."
   ]
  },
  {
   "cell_type": "markdown",
   "metadata": {},
   "source": [
    "### Question"
   ]
  },
  {
   "cell_type": "markdown",
   "metadata": {},
   "source": [
    "- Does the choice of solver method change the end result or RSS?"
   ]
  },
  {
   "cell_type": "code",
   "execution_count": 19,
   "metadata": {},
   "outputs": [],
   "source": [
    "def RSS_Solver(beta, X_train, y_train, X_test, y_test, solver) :\n",
    "    res = minimize(fun=RSS, x0=beta, method=solver, args=(X_train,y_train))\n",
    "    beta_hat = res.x\n",
    "    test_RSS = RSS(beta_hat,X_test,y_test)\n",
    "    return test_RSS"
   ]
  },
  {
   "cell_type": "code",
   "execution_count": 20,
   "metadata": {},
   "outputs": [],
   "source": [
    "solver = ['CG','BFGS','L-BFGS-B','SLSQP','TNC','Nelder-Mead','Powell','COBYLA']"
   ]
  },
  {
   "cell_type": "code",
   "execution_count": 21,
   "metadata": {},
   "outputs": [
    {
     "name": "stdout",
     "output_type": "stream",
     "text": [
      "RSS: 139.63 ; Solver: CG\n",
      "RSS: 139.61 ; Solver: BFGS\n",
      "RSS: 139.55 ; Solver: L-BFGS-B\n",
      "RSS: 139.61 ; Solver: SLSQP\n",
      "RSS: 145.63 ; Solver: TNC\n",
      "RSS: 239.36 ; Solver: Nelder-Mead\n",
      "RSS: 139.6 ; Solver: Powell\n",
      "RSS: 398.03 ; Solver: COBYLA\n"
     ]
    }
   ],
   "source": [
    "for i in range(len(solver)):\n",
    "    rss_test = RSS_Solver(beta0, X_train, y_train, X_test, y_test, solver[i])\n",
    "    print (\"RSS:\" , round(rss_test,2), \"; Solver:\", solver[i])"
   ]
  },
  {
   "cell_type": "markdown",
   "metadata": {},
   "source": [
    "### Answer"
   ]
  },
  {
   "cell_type": "markdown",
   "metadata": {},
   "source": [
    "- The Choice of the solver method does affect the RSS value since  different solvers have different assumptions and this affects the way optimize the problem (local optimizations) since they are not finding analytical closed-form solution. Here we observed CG and BFGS gives lowest RSS values and COBYLA gives largest RSS value."
   ]
  },
  {
   "cell_type": "markdown",
   "metadata": {},
   "source": [
    "## Regularizing the model "
   ]
  },
  {
   "cell_type": "markdown",
   "metadata": {},
   "source": [
    "Regularization seeks to simplify a model by decreasing the model’s complexity and degrees of\n",
    "freedom. While lowering the degrees of freedom also decreases the flexibility of the model, and\n",
    "therefore the performance of the model on training data, it increases generalizability, and thus it\n",
    "often increases performance on test data. One common method of regularization is called\n",
    "shrinkage, and is defined in section 3.4 of Elements of Statistical Learning."
   ]
  },
  {
   "cell_type": "markdown",
   "metadata": {},
   "source": [
    " - Try adding in an L2 (aka Ridge) regularization penalty to your model above to create a new, regularized model. \n",
    " - See equation 3.41 for guidance. You will need to choose a value of lambda, so start with something small, like 0.01."
   ]
  },
  {
   "cell_type": "code",
   "execution_count": 22,
   "metadata": {},
   "outputs": [],
   "source": [
    "# New Regularization model for RSS \n",
    "\n",
    "def RSS_reg(beta, X, y, l_reg, reg = 'l2'):\n",
    "    yhat = compute_yhat(beta, X)    \n",
    "      \n",
    "    if reg == 'l2':\n",
    "        return (np.sum((y-yhat)**2)+\n",
    "                (l_reg*np.sum(beta**2)))\n",
    "    elif reg == 'l1':\n",
    "        return (np.sum((y-yhat)**2)+\n",
    "                (l_reg*np.sum(np.abs(beta))))"
   ]
  },
  {
   "cell_type": "code",
   "execution_count": 23,
   "metadata": {},
   "outputs": [],
   "source": [
    "def RSS_min(beta0, X_test, y_test, l_reg=0.01, reg='l2'):\n",
    "    reg_res = minimize(fun=RSS_reg, x0=beta0, args=(X_train, y_train, l_reg, reg))\n",
    "    reg_beta_hat = reg_res.x\n",
    "    return RSS(reg_beta_hat, X_test, y_test)"
   ]
  },
  {
   "cell_type": "markdown",
   "metadata": {},
   "source": [
    "### Questions"
   ]
  },
  {
   "cell_type": "markdown",
   "metadata": {},
   "source": [
    "- How does RSS on the training data change? How does RSS on the test data change?\n",
    "- What happens if you try different values of lambda? \n",
    "- Can you tune lambda to get the best results on the test data?"
   ]
  },
  {
   "cell_type": "markdown",
   "metadata": {},
   "source": [
    "### Answers"
   ]
  },
  {
   "cell_type": "code",
   "execution_count": 24,
   "metadata": {},
   "outputs": [
    {
     "name": "stdout",
     "output_type": "stream",
     "text": [
      "RSS for train data from Regularized Model: L2  529.281\n",
      "RSS for test data from Regularized Model: L2   139.5924\n",
      "RSS for train data from optimized values beta_hat 529.2779\n",
      "RSS for test data from optimized values beta_hat 139.6091\n"
     ]
    }
   ],
   "source": [
    "# RSS for both training and test from Regularized Model L2 with lambda 0.01\n",
    "RSS_Train_Reg_L2 = RSS_min(beta0, X_train, y_train, l_reg=0.01, reg='l2')\n",
    "RSS_Test_Reg_L2 = RSS_min(beta0, X_test, y_test, l_reg=0.01, reg='l2')\n",
    "print (\"RSS for train data from Regularized Model: L2 \", round(RSS_Train_Reg_L2,4))\n",
    "print (\"RSS for test data from Regularized Model: L2  \", round(RSS_Test_Reg_L2,4))\n",
    "\n",
    "# RSS for both training and test from optimized values beta_hat\n",
    "RSS_train = RSS(beta_hat, X_train, y_train)\n",
    "print (\"RSS for train data from optimized values beta_hat {0:.4f}\".format(RSS_train))\n",
    "RSS_test = RSS(beta_hat, X_test, y_test)\n",
    "print (\"RSS for test data from optimized values beta_hat {0:.4f}\".format(RSS_test))"
   ]
  },
  {
   "cell_type": "markdown",
   "metadata": {},
   "source": [
    " - From Regularized Model L2 with lambda 0.01:\n",
    " - RSS on the train data increased marginally by 0.0031 (i.e., 529.2779 to 529.281) \n",
    " - RSS on the test data decreased marginally by 0.0167 (i.e., 139.6091 to 139.5924) "
   ]
  },
  {
   "cell_type": "code",
   "execution_count": 25,
   "metadata": {},
   "outputs": [
    {
     "name": "stderr",
     "output_type": "stream",
     "text": [
      "C:\\Users\\IBM\\anaconda3\\lib\\site-packages\\scipy\\optimize\\optimize.py:1166: RuntimeWarning: divide by zero encountered in double_scalars\n",
      "  rhok = 1.0 / (np.dot(yk, sk))\n"
     ]
    },
    {
     "name": "stdout",
     "output_type": "stream",
     "text": [
      "RSS from traindata and lambda values:\n",
      "0.0001: 529.277858\n",
      "0.0002: 529.277859\n",
      "0.0003: 529.27786\n",
      "0.0004: 529.277863\n",
      "0.0006: 529.277869\n",
      "0.0008: 529.277878\n",
      "0.001: 529.27789\n",
      "0.002: 529.277985\n",
      "0.003: 529.278142\n",
      "0.004: 529.278362\n",
      "0.006: 529.278986\n",
      "0.008: 529.279851\n",
      "0.01: 529.280956\n",
      "0.02: 529.289941\n",
      "0.03: 529.304382\n",
      "0.04: 529.323886\n",
      "0.06: 529.37663\n",
      "0.08: 529.445525\n",
      "0.1: 529.528297\n",
      "0.2: 530.088977\n",
      "0.3: 530.786428\n",
      "0.4: 531.532481\n",
      "0.6: 533.011197\n",
      "0.8: 534.371359\n",
      "1: 535.584079\n",
      "2: 539.89862\n",
      "3: 542.549861\n",
      "4: 544.437276\n",
      "6: 547.19244\n",
      "8: 549.341296\n",
      "10: 551.212677\n",
      "20: 558.950507\n",
      "30: 565.322775\n",
      "40: 570.747402\n",
      "60: 579.43555\n",
      "80: 586.032167\n",
      "100: 591.188286\n",
      "200: 606.076456\n",
      "300: 613.49955\n",
      "400: 618.300999\n",
      "600: 624.987511\n",
      "800: 630.262876\n",
      "1000: 635.07949\n"
     ]
    },
    {
     "data": {
      "text/plain": [
       "Text(0.5, 1.0, 'RSS vs L2 Regularization(Ridge) Train set')"
      ]
     },
     "execution_count": 25,
     "metadata": {},
     "output_type": "execute_result"
    },
    {
     "data": {
      "image/png": "[encoded data removed]",
      "text/plain": [
       "<Figure size 432x288 with 1 Axes>"
      ]
     },
     "metadata": {},
     "output_type": "display_data"
    }
   ],
   "source": [
    "#  L2 Regularization - Train data\n",
    "lamda = [0.0001,0.0002,0.0003,0.0004,0.0006,0.0008,0.001,0.002,0.003,0.004,\n",
    "         0.006,0.008,0.01,0.02,0.03,0.04,0.06,0.08,0.1,0.2,0.3,0.4,\n",
    "         0.6,0.8,1,2,3,4,6,8,10,20,30,40,60,80,100,200,300,400,600,800,1000]\n",
    "RSStrainl2 = OrderedDict()\n",
    "for l in (lamda):\n",
    "    RSStrainl2[l] = RSS_min(beta0, X_train, y_train, l, reg='l2')\n",
    "RSStrainL2= [str(i)+\": \"+str(round(RSStrainl2[i],6)) for i in RSStrainl2]\n",
    "print ('RSS from traindata and lambda values:')\n",
    "for i in RSStrainL2:\n",
    "    print (i)\n",
    "plt.plot(*zip(*sorted(RSStrainl2.items())))\n",
    "#plt.xscale('log')\n",
    "#plt.xlabel('log(Lambda)')\n",
    "plt.xlabel('Lambda')\n",
    "plt.ylabel('RSS')\n",
    "plt.title('RSS vs L2 Regularization(Ridge) Train set')\n"
   ]
  },
  {
   "cell_type": "code",
   "execution_count": 26,
   "metadata": {},
   "outputs": [
    {
     "name": "stderr",
     "output_type": "stream",
     "text": [
      "C:\\Users\\IBM\\anaconda3\\lib\\site-packages\\scipy\\optimize\\optimize.py:1166: RuntimeWarning: divide by zero encountered in double_scalars\n",
      "  rhok = 1.0 / (np.dot(yk, sk))\n"
     ]
    },
    {
     "name": "stdout",
     "output_type": "stream",
     "text": [
      "RSS from traindata and lambda values:\n",
      "0.0001: 139.608949\n",
      "0.0002: 139.608774\n",
      "0.0003: 139.608597\n",
      "0.0004: 139.608421\n",
      "0.0006: 139.608073\n",
      "0.0008: 139.607723\n",
      "0.001: 139.607377\n",
      "0.002: 139.605649\n",
      "0.003: 139.603938\n",
      "0.004: 139.602246\n",
      "0.006: 139.598911\n",
      "0.008: 139.595647\n",
      "0.01: 139.59245\n",
      "0.02: 139.57746\n",
      "0.03: 139.564046\n",
      "0.04: 139.552108\n",
      "0.06: 139.532292\n",
      "0.08: 139.517328\n",
      "0.1: 139.506641\n",
      "0.2: 139.501335\n",
      "0.3: 139.547221\n",
      "0.4: 139.619787\n",
      "0.6: 139.796534\n",
      "0.8: 139.979173\n",
      "1: 140.151026\n",
      "2: 140.790697\n",
      "3: 141.183207\n",
      "4: 141.453468\n",
      "6: 141.828061\n",
      "8: 142.105471\n",
      "10: 142.340986\n",
      "20: 143.31655\n",
      "30: 144.154371\n",
      "40: 144.89078\n",
      "60: 146.094417\n",
      "80: 147.008356\n",
      "100: 147.708529\n",
      "200: 149.511832\n",
      "300: 150.137362\n",
      "400: 150.371282\n",
      "600: 150.482001\n",
      "800: 150.513614\n",
      "1000: 150.603315\n"
     ]
    },
    {
     "data": {
      "text/plain": [
       "Text(0.5, 1.0, 'RSS vs L2 Regularization(Ridge) Test set')"
      ]
     },
     "execution_count": 26,
     "metadata": {},
     "output_type": "execute_result"
    },
    {
     "data": {
      "image/png": "[encoded data removed]",
      "text/plain": [
       "<Figure size 432x288 with 1 Axes>"
      ]
     },
     "metadata": {},
     "output_type": "display_data"
    }
   ],
   "source": [
    "#  L2 Regularization - Test data\n",
    "lamda = [0.0001,0.0002,0.0003,0.0004,0.0006,0.0008,0.001,0.002,0.003,0.004,\n",
    "         0.006,0.008,0.01,0.02,0.03,0.04,0.06,0.08,0.1,0.2,0.3,0.4,\n",
    "         0.6,0.8,1,2,3,4,6,8,10,20,30,40,60,80,100,200,300,400,600,800,1000]\n",
    "RSStestl2 = OrderedDict()\n",
    "for l in (lamda):\n",
    "    RSStestl2[l] = RSS_min(beta0, X_test, y_test, l, reg='l2')\n",
    "RSStestL2= [str(i)+\": \"+str(round(RSStestl2[i],6)) for i in RSStestl2]\n",
    "print ('RSS from traindata and lambda values:')\n",
    "for i in RSStestL2:\n",
    "    print (i)\n",
    "plt.plot(*zip(*sorted(RSStestl2.items())))\n",
    "#plt.xscale('log')\n",
    "#plt.xlabel('log(Lambda)')\n",
    "plt.xlabel('Lambda')\n",
    "plt.ylabel('RSS')\n",
    "plt.title('RSS vs L2 Regularization(Ridge) Test set')\n"
   ]
  },
  {
   "cell_type": "markdown",
   "metadata": {},
   "source": [
    "- As shown in the above two plot  by tunning lambda we obtained RSS vs L2 Regularization(Ridge) Train and Test set and obtained quite smoooth plots. Typically RSS increase with increasing lambda for both Train and Test sets. For the Train set, first lambda slightly decreases and then continues to increase indicating that there is an optimum point at lambda equal to 0.001.For the Test set, first lambda slightly decreases and then continues to increase indicating that there is an optimum point at lambda equal to 0.2"
   ]
  },
  {
   "cell_type": "markdown",
   "metadata": {},
   "source": [
    "### Questions"
   ]
  },
  {
   "cell_type": "markdown",
   "metadata": {},
   "source": [
    "- Now try using an L1 (aka Lasso) regularization penalty instead. \n",
    "- See equation 3.51 for example. \n",
    "- Report your findings on how RSS changes, and if you can roughly tune lambda."
   ]
  },
  {
   "cell_type": "markdown",
   "metadata": {},
   "source": [
    "### Answers"
   ]
  },
  {
   "cell_type": "code",
   "execution_count": 27,
   "metadata": {},
   "outputs": [
    {
     "name": "stdout",
     "output_type": "stream",
     "text": [
      "RSS for train data from Regularized Model: L1  529.281\n",
      "RSS for test data from Regularized Model: L1   139.5924\n",
      "RSS for train data from optimized values beta_hat 529.2779\n",
      "RSS for test data from optimized values beta_hat 139.6091\n"
     ]
    }
   ],
   "source": [
    "# RSS for both training and test from Regularized Model L1 with lambda 0.01\n",
    "RSS_Train_Reg_L1 = RSS_min(beta0, X_train, y_train, l_reg=0.01, reg='l1')\n",
    "RSS_Test_Reg_L1 = RSS_min(beta0, X_test, y_test, l_reg=0.01, reg='l1')\n",
    "print (\"RSS for train data from Regularized Model: L1 \", round(RSS_Train_Reg_L2,4))\n",
    "print (\"RSS for test data from Regularized Model: L1  \", round(RSS_Test_Reg_L2,4))\n",
    "\n",
    "# RSS for both training and test from optimized values beta_hat\n",
    "RSS_train = RSS(beta_hat, X_train, y_train)\n",
    "print (\"RSS for train data from optimized values beta_hat {0:.4f}\".format(RSS_train))\n",
    "RSS_test = RSS(beta_hat, X_test, y_test)\n",
    "print (\"RSS for test data from optimized values beta_hat {0:.4f}\".format(RSS_test))"
   ]
  },
  {
   "cell_type": "markdown",
   "metadata": {},
   "source": [
    " - From Regularized Model L1 with lambda 0.01:\n",
    " - RSS on the train data increased marginally by 0.0031 (i.e., 529.2779 to 529.281) \n",
    " - RSS on the test data decreased marginally by 0.0167 (i.e., 139.6091 to 139.5924)"
   ]
  },
  {
   "cell_type": "code",
   "execution_count": 28,
   "metadata": {},
   "outputs": [
    {
     "name": "stdout",
     "output_type": "stream",
     "text": [
      "RSS from traindata and lambda values:\n",
      "0.0001: 529.277857\n",
      "0.0002: 529.277857\n",
      "0.0003: 529.277857\n",
      "0.0004: 529.277857\n",
      "0.0006: 529.277858\n",
      "0.0008: 529.277858\n",
      "0.001: 529.277858\n",
      "0.002: 529.27786\n",
      "0.003: 529.277864\n",
      "0.004: 529.277869\n",
      "0.006: 529.277883\n",
      "0.008: 529.277903\n",
      "0.01: 529.277929\n",
      "0.02: 529.278143\n",
      "0.03: 529.278498\n",
      "0.04: 529.278995\n",
      "0.06: 529.280415\n",
      "0.08: 529.282401\n",
      "0.1: 529.284956\n",
      "0.2: 529.306235\n",
      "0.3: 529.341693\n",
      "0.4: 529.391335\n",
      "0.6: 529.533169\n",
      "0.8: 529.731725\n",
      "1: 529.962133\n",
      "2: 532.014843\n",
      "3: 534.006697\n",
      "4: 535.504435\n",
      "6: 542.925409\n",
      "8: 547.980553\n",
      "10: 548.801933\n",
      "20: 559.127594\n",
      "30: 570.48574\n",
      "40: 594.348342\n",
      "60: 607.247829\n",
      "80: 622.168501\n",
      "100: 634.538773\n",
      "200: 639.344248\n",
      "300: 639.730116\n"
     ]
    },
    {
     "data": {
      "text/plain": [
       "Text(0.5, 1.0, 'RSS vs L1 Regularization(Lasso) Train set')"
      ]
     },
     "execution_count": 28,
     "metadata": {},
     "output_type": "execute_result"
    },
    {
     "data": {
      "image/png": "[encoded data removed]",
      "text/plain": [
       "<Figure size 432x288 with 1 Axes>"
      ]
     },
     "metadata": {},
     "output_type": "display_data"
    }
   ],
   "source": [
    "# L1 Regularization - Train data\n",
    "lamda = [0.0001,0.0002,0.0003,0.0004,0.0006,0.0008,0.001,0.002,0.003,0.004,\n",
    "         0.006,0.008,0.01,0.02,0.03,0.04,0.06,0.08,0.1,0.2,0.3,0.4,\n",
    "         0.6,0.8,1,2,3,4,6,8,10,20,30,40,60,80,100,200,300]\n",
    "RSStrainl1 = OrderedDict()\n",
    "for l in (lamda):\n",
    "    RSStrainl1[l] = RSS_min(beta0, X_train, y_train, l, reg='l1')\n",
    "RSStrainL1 = [str(i)+\": \"+str(round(RSStrainl1[i],6)) for i in RSStrainl1]\n",
    "print ('RSS from traindata and lambda values:')\n",
    "for i in RSStrainL1:\n",
    "    print (i)\n",
    "plt.plot(*zip(*sorted(RSStrainl1.items())))\n",
    "#plt.xscale('log')\n",
    "#plt.xlabel('log(Lambda)')\n",
    "plt.xlabel('Lambda')\n",
    "plt.ylabel('RSS')\n",
    "plt.title('RSS vs L1 Regularization(Lasso) Train set')"
   ]
  },
  {
   "cell_type": "code",
   "execution_count": 29,
   "metadata": {},
   "outputs": [
    {
     "name": "stdout",
     "output_type": "stream",
     "text": [
      "RSS from testdata and lambda values:\n",
      "0.0001: 139.609119\n",
      "0.0002: 139.609112\n",
      "0.0003: 139.609113\n",
      "0.0004: 139.609112\n",
      "0.0006: 139.609105\n",
      "0.0008: 139.6091\n",
      "0.001: 139.609094\n",
      "0.002: 139.609067\n",
      "0.003: 139.609038\n",
      "0.004: 139.609009\n",
      "0.006: 139.608955\n",
      "0.008: 139.608901\n",
      "0.01: 139.60885\n",
      "0.02: 139.608604\n",
      "0.03: 139.608389\n",
      "0.04: 139.608198\n",
      "0.06: 139.607923\n",
      "0.08: 139.607756\n",
      "0.1: 139.607708\n",
      "0.2: 139.609243\n",
      "0.3: 139.613719\n",
      "0.4: 139.621145\n",
      "0.6: 139.64483\n",
      "0.8: 139.680301\n",
      "1: 139.762655\n",
      "2: 140.199959\n",
      "3: 140.448529\n",
      "4: 140.321164\n",
      "6: 141.54292\n",
      "8: 141.875301\n",
      "10: 142.035591\n",
      "20: 142.828099\n",
      "30: 143.190652\n",
      "40: 145.872611\n",
      "60: 151.039513\n",
      "80: 153.987346\n",
      "100: 154.576207\n",
      "200: 156.040959\n",
      "300: 155.493051\n"
     ]
    },
    {
     "data": {
      "text/plain": [
       "Text(0.5, 1.0, 'RSS vs L1 Regularization(Lasso) Test set')"
      ]
     },
     "execution_count": 29,
     "metadata": {},
     "output_type": "execute_result"
    },
    {
     "data": {
      "image/png": "[encoded data removed]",
      "text/plain": [
       "<Figure size 432x288 with 1 Axes>"
      ]
     },
     "metadata": {},
     "output_type": "display_data"
    }
   ],
   "source": [
    "# L1 Regularization - Test data\n",
    "\n",
    "lamda = [0.0001,0.0002,0.0003,0.0004,0.0006,0.0008,0.001,0.002,0.003,0.004,\n",
    "         0.006,0.008,0.01,0.02,0.03,0.04,0.06,0.08,0.1,0.2,0.3,0.4,\n",
    "         0.6,0.8,1,2,3,4,6,8,10,20,30,40,60,80,100,200,300]\n",
    "RSStestl1 = OrderedDict()\n",
    "for l in (lamda):\n",
    "    RSStestl1[l] = RSS_min(beta0, X_test, y_test, l, reg='l1')\n",
    "RSStestL1 = [str(i)+\": \"+str(round(RSStestl1[i],6)) for i in RSStestl1]\n",
    "print ('RSS from testdata and lambda values:')\n",
    "for i in RSStestL1:\n",
    "    print (i)\n",
    "plt.plot(*zip(*sorted(RSStestl1.items())))\n",
    "#plt.xscale('log')\n",
    "#plt.xlabel('log(Lambda)')\n",
    "plt.xlabel('Lambda')\n",
    "plt.ylabel('RSS')\n",
    "plt.title('RSS vs L1 Regularization(Lasso) Test set')"
   ]
  },
  {
   "cell_type": "markdown",
   "metadata": {},
   "source": [
    "- As shown in the above two plot  by tunning lambda we obtained RSS vs L1 Regularization(Lasso) Train and Test set plots. Typically RSS increase with increasing lambda for both Train and Test sets. However, for the Test set, first lambda slightly decreases and then continues to increase indicating that there is an optimum point at lambda equal to 0.1. For the train set best lambda would be around 0.0001"
   ]
  },
  {
   "cell_type": "markdown",
   "metadata": {},
   "source": [
    "### Question"
   ]
  },
  {
   "cell_type": "markdown",
   "metadata": {},
   "source": [
    "- Again, do you think that the magnitude of the features in X may affect the results with regularization?"
   ]
  },
  {
   "cell_type": "markdown",
   "metadata": {},
   "source": [
    "### Answer"
   ]
  },
  {
   "cell_type": "markdown",
   "metadata": {},
   "source": [
    "- Typically with regularization beta coefficients are reduced, but the magnitube of the features do effect the coefficients because it penalizes the large values of cooefficients to keep the overall function to minimum. Therefore, regularization would normally reduce the less prominent features; thus I do not think that the magnitude of X's features will necessarily affect the results with regularization."
   ]
  }
 ],
 "metadata": {
  "kernelspec": {
   "display_name": "Python 3",
   "language": "python",
   "name": "python3"
  },
  "language_info": {
   "codemirror_mode": {
    "name": "ipython",
    "version": 3
   },
   "file_extension": ".py",
   "mimetype": "text/x-python",
   "name": "python",
   "nbconvert_exporter": "python",
   "pygments_lexer": "ipython3",
   "version": "3.8.3"
  }
 },
 "nbformat": 4,
 "nbformat_minor": 4
}
